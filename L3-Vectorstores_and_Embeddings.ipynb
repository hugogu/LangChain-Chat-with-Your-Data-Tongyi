{
 "cells": [
  {
   "cell_type": "markdown",
   "id": "02a0e38d",
   "metadata": {},
   "source": [
    "# Vectorstores and Embeddings\n",
    "Recall the overall workflow for retrieval augmented generation (RAG):"
   ]
  },
  {
   "cell_type": "code",
   "id": "f07dae27",
   "metadata": {},
   "source": [
    "import os\n",
    "import openai\n",
    "import sys\n",
    "sys.path.append('../..')\n",
    "\n",
    "from dotenv import load_dotenv, find_dotenv\n",
    "_ = load_dotenv(find_dotenv()) # read local .env file\n",
    "\n",
    "openai.api_key  = os.environ['OPENAI_API_KEY']"
   ],
   "outputs": [],
   "execution_count": null
  },
  {
   "cell_type": "markdown",
   "id": "028d8db7",
   "metadata": {},
   "source": [
    "We just discussed Document Loading and Splitting."
   ]
  },
  {
   "cell_type": "code",
   "id": "f8595586",
   "metadata": {},
   "source": [
    "from langchain.document_loaders import PyPDFLoader\n",
    "\n",
    "# Load PDF\n",
    "loaders = [\n",
    "    # Duplicate documents on purpose - messy data\n",
    "    PyPDFLoader(\"docs/cs229_lectures/MachineLearning-Lecture01.pdf\"),\n",
    "    PyPDFLoader(\"docs/cs229_lectures/MachineLearning-Lecture01.pdf\"),\n",
    "    PyPDFLoader(\"docs/cs229_lectures/MachineLearning-Lecture02.pdf\"),\n",
    "    PyPDFLoader(\"docs/cs229_lectures/MachineLearning-Lecture03.pdf\")\n",
    "]\n",
    "docs = []\n",
    "for loader in loaders:\n",
    "    docs.extend(loader.load())"
   ],
   "outputs": [],
   "execution_count": null
  },
  {
   "cell_type": "code",
   "id": "38c47949",
   "metadata": {},
   "source": [
    "# Split\n",
    "from langchain.text_splitter import RecursiveCharacterTextSplitter\n",
    "text_splitter = RecursiveCharacterTextSplitter(\n",
    "    chunk_size = 1500,\n",
    "    chunk_overlap = 150\n",
    ")"
   ],
   "outputs": [],
   "execution_count": null
  },
  {
   "cell_type": "code",
   "id": "bffb67f4",
   "metadata": {},
   "source": [
    "splits = text_splitter.split_documents(docs)"
   ],
   "outputs": [],
   "execution_count": null
  },
  {
   "cell_type": "code",
   "id": "c471804f",
   "metadata": {},
   "source": [
    "len(splits)"
   ],
   "outputs": [],
   "execution_count": null
  },
  {
   "cell_type": "markdown",
   "id": "7aa38802",
   "metadata": {},
   "source": [
    "## Embeddings\n",
    "Let's take our splits and embed them."
   ]
  },
  {
   "cell_type": "code",
   "id": "9baa8eec",
   "metadata": {},
   "source": [
    "from langchain_community.embeddings import DashScopeEmbeddings\n",
    "\n",
    "embedding = DashScopeEmbeddings(\n",
    "    dashscope_api_key=os.environ.get(\"OPENAI_API_KEY\"),\n",
    "    model=\"text-embedding-v1\"\n",
    ")"
   ],
   "outputs": [],
   "execution_count": null
  },
  {
   "cell_type": "code",
   "id": "01324ec9",
   "metadata": {},
   "source": [
    "sentence1 = \"i like dogs\"\n",
    "sentence2 = \"i like canines\"\n",
    "sentence3 = \"the weather is ugly outside\""
   ],
   "outputs": [],
   "execution_count": null
  },
  {
   "cell_type": "code",
   "id": "95d87cd4",
   "metadata": {},
   "source": [
    "embedding1 = embedding.embed_query(sentence1)\n",
    "embedding2 = embedding.embed_query(sentence2)\n",
    "embedding3 = embedding.embed_query(sentence3)"
   ],
   "outputs": [],
   "execution_count": null
  },
  {
   "cell_type": "code",
   "id": "f7cbe5a7",
   "metadata": {},
   "source": [
    "import numpy as np"
   ],
   "outputs": [],
   "execution_count": null
  },
  {
   "cell_type": "code",
   "id": "824e41dc",
   "metadata": {},
   "source": [
    "np.dot(embedding1, embedding2)"
   ],
   "outputs": [],
   "execution_count": null
  },
  {
   "cell_type": "code",
   "id": "df2bbd39",
   "metadata": {},
   "source": [
    "np.dot(embedding1, embedding3)"
   ],
   "outputs": [],
   "execution_count": null
  },
  {
   "cell_type": "code",
   "id": "379dc355",
   "metadata": {},
   "source": [
    "np.dot(embedding2, embedding3)"
   ],
   "outputs": [],
   "execution_count": null
  },
  {
   "cell_type": "markdown",
   "id": "03e60563",
   "metadata": {},
   "source": [
    "## Vectorstores"
   ]
  },
  {
   "cell_type": "code",
   "id": "7d8f8b25",
   "metadata": {},
   "source": "! pip install chromadb",
   "outputs": [],
   "execution_count": null
  },
  {
   "cell_type": "code",
   "id": "fc5943fe",
   "metadata": {},
   "source": [
    "from langchain.vectorstores import Chroma"
   ],
   "outputs": [],
   "execution_count": null
  },
  {
   "cell_type": "code",
   "id": "79d84ab7",
   "metadata": {},
   "source": [
    "persist_directory = 'docs/chroma/'"
   ],
   "outputs": [],
   "execution_count": null
  },
  {
   "cell_type": "code",
   "id": "95c9d3fa",
   "metadata": {},
   "source": [
    "!rm -rf ./docs/chroma  # remove old database files if any"
   ],
   "outputs": [],
   "execution_count": null
  },
  {
   "cell_type": "code",
   "id": "86b1746a",
   "metadata": {},
   "source": [
    "vectordb = Chroma.from_documents(\n",
    "    documents=splits,\n",
    "    embedding=embedding,\n",
    "    persist_directory=persist_directory\n",
    ")"
   ],
   "outputs": [],
   "execution_count": null
  },
  {
   "cell_type": "code",
   "id": "b0145579",
   "metadata": {},
   "source": [
    "print(vectordb._collection.count())"
   ],
   "outputs": [],
   "execution_count": null
  },
  {
   "cell_type": "markdown",
   "id": "fba605ca",
   "metadata": {},
   "source": [
    "## Similarity Search"
   ]
  },
  {
   "cell_type": "code",
   "id": "2fc85706",
   "metadata": {},
   "source": [
    "question = \"is there an email i can ask for help\""
   ],
   "outputs": [],
   "execution_count": null
  },
  {
   "cell_type": "code",
   "id": "15a4de34",
   "metadata": {},
   "source": [
    "docs = vectordb.similarity_search(question,k=3) # k is number of documents "
   ],
   "outputs": [],
   "execution_count": null
  },
  {
   "cell_type": "code",
   "id": "8e8be2a9",
   "metadata": {},
   "source": [
    "len(docs)"
   ],
   "outputs": [],
   "execution_count": null
  },
  {
   "cell_type": "code",
   "id": "d3329787",
   "metadata": {},
   "source": [
    "docs[0].page_content"
   ],
   "outputs": [],
   "execution_count": null
  },
  {
   "cell_type": "code",
   "id": "ed8c256a",
   "metadata": {},
   "source": [
    "vectordb.persist()"
   ],
   "outputs": [],
   "execution_count": null
  },
  {
   "cell_type": "markdown",
   "id": "c9da949f",
   "metadata": {},
   "source": [
    "## Failure modes\n",
    "This seems great, and basic similarity search will get you 80% of the way there very easily.\n",
    "\n",
    "But there are some failure modes that can creep up.\n",
    "\n",
    "Here are some edge cases that can arise - we'll fix them in the next class."
   ]
  },
  {
   "cell_type": "code",
   "id": "dd63fa7c",
   "metadata": {},
   "source": [
    "question = \"what did they say about matlab?\""
   ],
   "outputs": [],
   "execution_count": null
  },
  {
   "cell_type": "code",
   "id": "f303aa30",
   "metadata": {},
   "source": [
    "docs = vectordb.similarity_search(question,k=5)"
   ],
   "outputs": [],
   "execution_count": null
  },
  {
   "cell_type": "markdown",
   "id": "c3c86465",
   "metadata": {},
   "source": [
    "Notice that we're getting duplicate chunks (because of the duplicate MachineLearning-Lecture01.pdf in the index).\n",
    "\n",
    "Semantic search fetches all similar documents, but does not enforce diversity.\n",
    "\n",
    "docs[0] and docs[1] are indentical."
   ]
  },
  {
   "cell_type": "code",
   "id": "b6badb8c",
   "metadata": {},
   "source": [
    "docs[0]"
   ],
   "outputs": [],
   "execution_count": null
  },
  {
   "cell_type": "code",
   "id": "b3fbdc99",
   "metadata": {},
   "source": [
    "docs[1]"
   ],
   "outputs": [],
   "execution_count": null
  },
  {
   "cell_type": "markdown",
   "id": "abfb77aa",
   "metadata": {},
   "source": [
    "We can see a new failure mode.\n",
    "\n",
    "The question below asks a question about the third lecture, but includes results from other lectures as well."
   ]
  },
  {
   "cell_type": "code",
   "id": "692d7269",
   "metadata": {},
   "source": [
    "question = \"what did they say about regression in the third lecture?\""
   ],
   "outputs": [],
   "execution_count": null
  },
  {
   "cell_type": "code",
   "id": "83b85399",
   "metadata": {},
   "source": [
    "docs = vectordb.similarity_search(question,k=5)"
   ],
   "outputs": [],
   "execution_count": null
  },
  {
   "cell_type": "code",
   "id": "19344ee2",
   "metadata": {},
   "source": [
    "for doc in docs:\n",
    "    print(doc.metadata)"
   ],
   "outputs": [],
   "execution_count": null
  },
  {
   "cell_type": "code",
   "id": "8259e486",
   "metadata": {},
   "source": [
    "print(docs[4].page_content)"
   ],
   "outputs": [],
   "execution_count": null
  },
  {
   "cell_type": "markdown",
   "id": "b433da8e",
   "metadata": {},
   "source": [
    "Approaches discussed in the next lecture can be used to address both!"
   ]
  },
  {
   "cell_type": "code",
   "id": "88940169",
   "metadata": {},
   "source": [],
   "outputs": [],
   "execution_count": null
  }
 ],
 "metadata": {
  "kernelspec": {
   "display_name": "Python 3 (ipykernel)",
   "language": "python",
   "name": "python3"
  },
  "language_info": {
   "codemirror_mode": {
    "name": "ipython",
    "version": 3
   },
   "file_extension": ".py",
   "mimetype": "text/x-python",
   "name": "python",
   "nbconvert_exporter": "python",
   "pygments_lexer": "ipython3",
   "version": "3.10.9"
  }
 },
 "nbformat": 4,
 "nbformat_minor": 5
}
